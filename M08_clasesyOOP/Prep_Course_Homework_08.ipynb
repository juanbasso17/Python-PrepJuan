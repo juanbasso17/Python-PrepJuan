{
 "cells": [
  {
   "attachments": {},
   "cell_type": "markdown",
   "metadata": {},
   "source": [
    "## Clases y Programación Orientada a Objetos"
   ]
  },
  {
   "attachments": {},
   "cell_type": "markdown",
   "metadata": {},
   "source": [
    "1) Crear la clase vehículo que contenga los atributos:<br>\n",
    "Color<br>\n",
    "Si es moto, auto, camioneta ó camión<br>\n",
    "Cilindrada del motor"
   ]
  },
  {
   "cell_type": "code",
   "execution_count": 69,
   "metadata": {},
   "outputs": [],
   "source": [
    "class vehiculo:\n",
    "    def __init__(self,color,tipo,cilindrada):\n",
    "        self.color= color\n",
    "        self.tipo= tipo\n",
    "        self.cilindrada= cilindrada \n"
   ]
  },
  {
   "attachments": {},
   "cell_type": "markdown",
   "metadata": {},
   "source": [
    "2) A la clase Vehiculo creada en el punto 1, agregar los siguientes métodos:<br>\n",
    "Acelerar<br>\n",
    "Frenar<br>\n",
    "Doblar<br>"
   ]
  },
  {
   "cell_type": "code",
   "execution_count": 70,
   "metadata": {},
   "outputs": [],
   "source": [
    "class vehiculo:\n",
    "    def __init__(self,color,tipo,cilindrada):\n",
    "        self.color= color\n",
    "        self.tipo= tipo\n",
    "        self.cilindrada= cilindrada\n",
    "        self.velocidad= 0\n",
    "        self.direccion= 0 \n",
    "\n",
    "    def acelerar(self,vel):\n",
    "        self.velocidad += vel\n",
    "    def frenar(self,vel):\n",
    "        self.velocidad -= vel\n",
    "    def doblar(self,grados):\n",
    "        self.direccion += grados"
   ]
  },
  {
   "attachments": {},
   "cell_type": "markdown",
   "metadata": {},
   "source": [
    "3) Instanciar 3 objetos de la clase vehículo y ejecutar sus métodos, probar luego el resultado"
   ]
  },
  {
   "cell_type": "code",
   "execution_count": 75,
   "metadata": {},
   "outputs": [],
   "source": [
    "vehiculo1= vehiculo('rojo','auto',3)\n",
    "vehiculo2= vehiculo('negro','moto',2.3)\n",
    "vehiculo3= vehiculo('azul','camion',5)\n"
   ]
  },
  {
   "cell_type": "code",
   "execution_count": 76,
   "metadata": {},
   "outputs": [
    {
     "name": "stdout",
     "output_type": "stream",
     "text": [
      "acelerando\n",
      "doblando\n"
     ]
    }
   ],
   "source": [
    "print('acelerando')\n",
    "vehiculo1.acelerar(20)\n",
    "vehiculo2.acelerar(10)\n",
    "vehiculo3.acelerar(15)\n",
    "\n",
    "print('doblando')\n",
    "vehiculo1.doblar(-20)\n",
    "vehiculo2.doblar(25)\n",
    "vehiculo3.doblar(-10)"
   ]
  },
  {
   "attachments": {},
   "cell_type": "markdown",
   "metadata": {},
   "source": [
    "4) Agregar a la clase Vehiculo, un método que muestre su estado, es decir, a que velocidad se encuentra y su dirección. Y otro método que muestre color, tipo y cilindrada"
   ]
  },
  {
   "cell_type": "code",
   "execution_count": 73,
   "metadata": {},
   "outputs": [],
   "source": [
    "class vehiculo:\n",
    "    def __init__(self,color,tipo,cilindrada):\n",
    "        self.color= color\n",
    "        self.tipo= tipo\n",
    "        self.cilindrada= cilindrada\n",
    "        self.velocidad= 0\n",
    "        self.direccion= 0 \n",
    "\n",
    "    def acelerar(self,vel):\n",
    "        self.velocidad += vel\n",
    "    def frenar(self,vel):\n",
    "        self.velocidad -= vel\n",
    "    def doblar(self,grados):\n",
    "        self.direccion += grados\n",
    "\n",
    "    def estado(self):\n",
    "        return print(f'EL vehiculo va a {self.velocidad} km/h y se mueve con direccion {self.direccion} grados')\n",
    "    \n",
    "    def presentar(self):\n",
    "        return print(f'El vehiculo es un/a {self.tipo}, de color {self.color}, con cilindrada de {self.cilindrada}')"
   ]
  },
  {
   "cell_type": "code",
   "execution_count": 77,
   "metadata": {},
   "outputs": [
    {
     "name": "stdout",
     "output_type": "stream",
     "text": [
      "El vehiculo es un/a auto, de color rojo, con cilindrada de 3\n",
      "El vehiculo es un/a moto, de color negro, con cilindrada de 2.3\n",
      "El vehiculo es un/a camion, de color azul, con cilindrada de 5\n"
     ]
    }
   ],
   "source": [
    "vehiculo1.presentar()\n",
    "vehiculo2.presentar()\n",
    "vehiculo3.presentar()"
   ]
  },
  {
   "cell_type": "code",
   "execution_count": 78,
   "metadata": {},
   "outputs": [
    {
     "name": "stdout",
     "output_type": "stream",
     "text": [
      "EL vehiculo va a 20 km/h y se mueve con direccion -20 grados\n",
      "EL vehiculo va a 10 km/h y se mueve con direccion 25 grados\n",
      "EL vehiculo va a 15 km/h y se mueve con direccion -10 grados\n"
     ]
    }
   ],
   "source": [
    "vehiculo1.estado()\n",
    "vehiculo2.estado()\n",
    "vehiculo3.estado()"
   ]
  },
  {
   "cell_type": "code",
   "execution_count": 79,
   "metadata": {},
   "outputs": [
    {
     "name": "stdout",
     "output_type": "stream",
     "text": [
      "frenando y cambiando de direccion\n",
      "EL vehiculo va a 10 km/h y se mueve con direccion -30 grados\n",
      "EL vehiculo va a 5 km/h y se mueve con direccion 50 grados\n",
      "EL vehiculo va a 0 km/h y se mueve con direccion -25 grados\n"
     ]
    }
   ],
   "source": [
    "print('frenando y cambiando de direccion')\n",
    "vehiculo1.frenar(10)\n",
    "vehiculo2.frenar(5)\n",
    "vehiculo3.frenar(15)\n",
    "vehiculo1.doblar(-10)\n",
    "vehiculo2.doblar(25)\n",
    "vehiculo3.doblar(-15)\n",
    "\n",
    "vehiculo1.estado()\n",
    "vehiculo2.estado()\n",
    "vehiculo3.estado()"
   ]
  },
  {
   "attachments": {},
   "cell_type": "markdown",
   "metadata": {},
   "source": [
    "5) Crear una clase que permita utilizar las funciones creadas en la práctica del módulo 7<br>\n",
    "Verificar Primo<br>\n",
    "Valor modal<br>\n",
    "Conversión grados<br>\n",
    "Factorial<br>"
   ]
  },
  {
   "cell_type": "code",
   "execution_count": 120,
   "metadata": {},
   "outputs": [],
   "source": [
    "class Herramientas:\n",
    "    def __init__(self) -> None:\n",
    "        pass\n",
    "\n",
    "    def verifica_primo(self,nro):\n",
    "        if nro <= 1:\n",
    "            return False\n",
    "        for i in range(2,nro):\n",
    "            if nro % i == 0:\n",
    "                return False\n",
    "        return True\n",
    "\n",
    "    def valor_modal(self,lista,menor):\n",
    "        unicos= []\n",
    "        repetidos= []\n",
    "        if len(lista) == 0:\n",
    "            return None\n",
    "        if menor:\n",
    "            lista.sort()\n",
    "        else:\n",
    "            lista.sort(reverse=True)\n",
    "        for elemento in lista:\n",
    "            if elemento in unicos:\n",
    "                i= unicos.index(elemento)\n",
    "                repetidos[i] += 1\n",
    "            else:\n",
    "                unicos.append(elemento)\n",
    "                repetidos.append(1)\n",
    "        moda= unicos[0]\n",
    "        maximo= repetidos[0]\n",
    "        for i, elemento in enumerate(unicos):\n",
    "            if repetidos[i]>maximo:\n",
    "                moda= unicos[i]\n",
    "                maximo= repetidos[i]\n",
    "        return moda, maximo\n",
    "\n",
    "    def conversor_temperatura(self,valor,origen,destino):\n",
    "        if origen == 'celsius':\n",
    "            if destino == 'celsius':\n",
    "                valor_destino = valor\n",
    "            elif destino == 'farenheit':\n",
    "                valor_destino = (valor * (9/5) + 32)\n",
    "            elif destino == 'kelvin':\n",
    "                valor_destino = valor + 273.15\n",
    "            else:\n",
    "                print('Parámetro incorrecto')\n",
    "        elif origen == 'farenheit':\n",
    "            if destino == 'farenheit':\n",
    "                valor_destino = valor\n",
    "            elif destino == 'celsius':\n",
    "                valor_destino = ((valor - 32) * 5) / 9\n",
    "            elif destino == 'kelvin':\n",
    "                valor_destino = (((valor - 32) * 5) / 9) + 273.15\n",
    "            else:\n",
    "                print('Parámetro incorrecto')\n",
    "        elif origen == 'kelvin':\n",
    "            if destino == 'kelvin':\n",
    "                valor_destino= valor\n",
    "            elif destino == 'celsius':\n",
    "                valor_destino= valor - 273.15\n",
    "            elif destino == 'farenheit':\n",
    "                valor_destino= (valor - 273.15) * 9/5 + 32\n",
    "            else:\n",
    "                print('Parámetro incorrecto')\n",
    "        else:\n",
    "            print('Parámetro de origen incorrecto')\n",
    "        return valor_destino\n",
    "\n",
    "    def factorial(self,numero):\n",
    "        if type(numero) != int:\n",
    "            return 'Debe ser un número entero'\n",
    "        if numero < 0:\n",
    "            return 'Debe ser un número positivo'\n",
    "        if numero <= 1:\n",
    "            return 1\n",
    "        numero= numero * self.factorial(numero - 1)\n",
    "        return numero\n",
    "\n",
    "            "
   ]
  },
  {
   "attachments": {},
   "cell_type": "markdown",
   "metadata": {},
   "source": [
    "6) Probar las funciones incorporadas en la clase del punto 5"
   ]
  },
  {
   "attachments": {},
   "cell_type": "markdown",
   "metadata": {},
   "source": [
    "TESTEANDO LA CLASE Y SUS METODOS INTERNOS"
   ]
  },
  {
   "cell_type": "code",
   "execution_count": 121,
   "metadata": {},
   "outputs": [],
   "source": [
    "h= Herramientas()"
   ]
  },
  {
   "cell_type": "code",
   "execution_count": 124,
   "metadata": {},
   "outputs": [
    {
     "data": {
      "text/plain": [
       "False"
      ]
     },
     "execution_count": 124,
     "metadata": {},
     "output_type": "execute_result"
    }
   ],
   "source": [
    "h.verifica_primo(1)"
   ]
  },
  {
   "cell_type": "code",
   "execution_count": 125,
   "metadata": {},
   "outputs": [],
   "source": [
    "lista1=[1,2,3,3,3,4,5,6,6,6,7,8,9,10]"
   ]
  },
  {
   "cell_type": "code",
   "execution_count": 126,
   "metadata": {},
   "outputs": [
    {
     "data": {
      "text/plain": [
       "(6, 3)"
      ]
     },
     "execution_count": 126,
     "metadata": {},
     "output_type": "execute_result"
    }
   ],
   "source": [
    "h.valor_modal(lista1,False)"
   ]
  },
  {
   "cell_type": "code",
   "execution_count": 127,
   "metadata": {},
   "outputs": [
    {
     "data": {
      "text/plain": [
       "(3, 3)"
      ]
     },
     "execution_count": 127,
     "metadata": {},
     "output_type": "execute_result"
    }
   ],
   "source": [
    "h.valor_modal(lista1,True)"
   ]
  },
  {
   "cell_type": "code",
   "execution_count": 128,
   "metadata": {},
   "outputs": [
    {
     "data": {
      "text/plain": [
       "120"
      ]
     },
     "execution_count": 128,
     "metadata": {},
     "output_type": "execute_result"
    }
   ],
   "source": [
    "h.factorial(5)"
   ]
  },
  {
   "cell_type": "code",
   "execution_count": 129,
   "metadata": {},
   "outputs": [
    {
     "data": {
      "text/plain": [
       "50.0"
      ]
     },
     "execution_count": 129,
     "metadata": {},
     "output_type": "execute_result"
    }
   ],
   "source": [
    "h.conversor_temperatura(10,'celsius','farenheit')"
   ]
  },
  {
   "attachments": {},
   "cell_type": "markdown",
   "metadata": {},
   "source": [
    "7) Es necesario que la clase creada en el punto 5 contenga una lista, sobre la cual se apliquen las funciones incorporadas"
   ]
  },
  {
   "cell_type": "code",
   "execution_count": 149,
   "metadata": {},
   "outputs": [],
   "source": [
    "class Herramientas_listas:\n",
    "    def __init__(self, lista_numeros):          #ahora en el metodo constructor ya hay incluida una lista como argumento.\n",
    "        self.lista= lista_numeros\n",
    "\n",
    "    def verifica_primo(self):\n",
    "        for i in self.lista:\n",
    "            if (self.__verifica_primo(i)):\n",
    "                print(f'El número {i} es primo')\n",
    "            else:\n",
    "                print(f'El número {i} no es primo')\n",
    "\n",
    "    def __verifica_primo(self,nro):\n",
    "        if nro <= 1:\n",
    "            return False\n",
    "        for i in range(2,nro):\n",
    "            if nro % i == 0:\n",
    "                return False\n",
    "        return True\n",
    "\n",
    "    def valor_modal(self,menor):    #hay que hacer varios cambios para adaptar Herramientas para que funcione con listas como argumento.\n",
    "        unicos= []\n",
    "        repetidos= []\n",
    "        if len(self.lista) == 0:\n",
    "            return None\n",
    "        if menor:\n",
    "            self.lista.sort()           # 'self.lista' ahora reemplaza todos los lugares en la funcion donde estaba 'lista'\n",
    "        else:\n",
    "            self.lista.sort(reverse=True)\n",
    "        for elemento in self.lista:\n",
    "            if elemento in unicos:\n",
    "                i= unicos.index(elemento)\n",
    "                repetidos[i] += 1\n",
    "            else:\n",
    "                unicos.append(elemento)\n",
    "                repetidos.append(1)\n",
    "        moda= unicos[0]\n",
    "        maximo= repetidos[0]\n",
    "        for i, elemento in enumerate(unicos):\n",
    "            if repetidos[i]>maximo:\n",
    "                moda= unicos[i]\n",
    "                maximo= repetidos[i]\n",
    "        return moda, maximo\n",
    "    \n",
    "    def conversor_temperatura(self,origen,destino):\n",
    "        for i in self.lista:\n",
    "            print(f'{i} grados {origen} equivalen a {self.__conversor_temperatura(i,origen,destino)} grados {destino}')\n",
    "\n",
    "    def __conversor_temperatura(self,valor,origen,destino):\n",
    "        if origen == 'celsius':\n",
    "            if destino == 'celsius':\n",
    "                valor_destino = valor\n",
    "            elif destino == 'farenheit':\n",
    "                valor_destino = (valor * (9/5) + 32)\n",
    "            elif destino == 'kelvin':\n",
    "                valor_destino = valor + 273.15\n",
    "            else:\n",
    "                print('Parámetro incorrecto')\n",
    "        elif origen == 'farenheit':\n",
    "            if destino == 'farenheit':\n",
    "                valor_destino = valor\n",
    "            elif destino == 'celsius':\n",
    "                valor_destino = ((valor - 32) * 5) / 9\n",
    "            elif destino == 'kelvin':\n",
    "                valor_destino = (((valor - 32) * 5) / 9) + 273.15\n",
    "            else:\n",
    "                print('Parámetro incorrecto')\n",
    "        elif origen == 'kelvin':\n",
    "            if destino == 'kelvin':\n",
    "                valor_destino= valor\n",
    "            elif destino == 'celsius':\n",
    "                valor_destino= valor - 273.15\n",
    "            elif destino == 'farenheit':\n",
    "                valor_destino= (valor - 273.15) * 9/5 + 32\n",
    "            else:\n",
    "                print('Parámetro incorrecto')\n",
    "        else:\n",
    "            print('Parámetro de origen incorrecto')\n",
    "        return valor_destino\n",
    "\n",
    "    def factorial(self):\n",
    "        for i in self.lista:\n",
    "            print(f'El factorial de {i} es {self.__factorial(i)}')\n",
    "\n",
    "    def __factorial(self,numero):\n",
    "        if type(numero) != int:\n",
    "            return 'Debe ser un número entero'\n",
    "        if numero < 0:\n",
    "            return 'Debe ser un número positivo'\n",
    "        if numero <= 1:\n",
    "            return 1\n",
    "        numero= numero * self.__factorial(numero - 1)\n",
    "        return numero"
   ]
  },
  {
   "cell_type": "code",
   "execution_count": 142,
   "metadata": {},
   "outputs": [],
   "source": [
    "h3= Herramientas_listas([1,2,3,4,5,3,3,3,5,5,5,7,7,9,24])"
   ]
  },
  {
   "cell_type": "code",
   "execution_count": 143,
   "metadata": {},
   "outputs": [
    {
     "name": "stdout",
     "output_type": "stream",
     "text": [
      "El número 1 no es primo\n",
      "El número 2 es primo\n",
      "El número 3 es primo\n",
      "El número 4 no es primo\n",
      "El número 5 es primo\n",
      "El número 3 es primo\n",
      "El número 3 es primo\n",
      "El número 3 es primo\n",
      "El número 5 es primo\n",
      "El número 5 es primo\n",
      "El número 5 es primo\n",
      "El número 7 es primo\n",
      "El número 7 es primo\n",
      "El número 9 no es primo\n",
      "El número 24 no es primo\n"
     ]
    }
   ],
   "source": [
    "h3.verifica_primo()"
   ]
  },
  {
   "cell_type": "code",
   "execution_count": 146,
   "metadata": {},
   "outputs": [
    {
     "data": {
      "text/plain": [
       "(3, 4)"
      ]
     },
     "execution_count": 146,
     "metadata": {},
     "output_type": "execute_result"
    }
   ],
   "source": [
    "h3.valor_modal(True)"
   ]
  },
  {
   "cell_type": "code",
   "execution_count": 147,
   "metadata": {},
   "outputs": [
    {
     "name": "stdout",
     "output_type": "stream",
     "text": [
      "1 grados celsius equivalen a 274.15 grados kelvin\n",
      "2 grados celsius equivalen a 275.15 grados kelvin\n",
      "3 grados celsius equivalen a 276.15 grados kelvin\n",
      "3 grados celsius equivalen a 276.15 grados kelvin\n",
      "3 grados celsius equivalen a 276.15 grados kelvin\n",
      "3 grados celsius equivalen a 276.15 grados kelvin\n",
      "4 grados celsius equivalen a 277.15 grados kelvin\n",
      "5 grados celsius equivalen a 278.15 grados kelvin\n",
      "5 grados celsius equivalen a 278.15 grados kelvin\n",
      "5 grados celsius equivalen a 278.15 grados kelvin\n",
      "5 grados celsius equivalen a 278.15 grados kelvin\n",
      "7 grados celsius equivalen a 280.15 grados kelvin\n",
      "7 grados celsius equivalen a 280.15 grados kelvin\n",
      "9 grados celsius equivalen a 282.15 grados kelvin\n",
      "24 grados celsius equivalen a 297.15 grados kelvin\n"
     ]
    }
   ],
   "source": [
    "h3.conversor_temperatura('celsius', 'kelvin')"
   ]
  },
  {
   "cell_type": "code",
   "execution_count": 148,
   "metadata": {},
   "outputs": [
    {
     "name": "stdout",
     "output_type": "stream",
     "text": [
      "El factorial de 1 es 1\n",
      "El factorial de 2 es 2\n",
      "El factorial de 3 es 6\n",
      "El factorial de 3 es 6\n",
      "El factorial de 3 es 6\n",
      "El factorial de 3 es 6\n",
      "El factorial de 4 es 24\n",
      "El factorial de 5 es 120\n",
      "El factorial de 5 es 120\n",
      "El factorial de 5 es 120\n",
      "El factorial de 5 es 120\n",
      "El factorial de 7 es 5040\n",
      "El factorial de 7 es 5040\n",
      "El factorial de 9 es 362880\n",
      "El factorial de 24 es 620448401733239439360000\n"
     ]
    }
   ],
   "source": [
    "h3.factorial()"
   ]
  },
  {
   "attachments": {},
   "cell_type": "markdown",
   "metadata": {},
   "source": [
    "8) Crear un archivo .py aparte y ubicar allí la clase generada en el punto anterior. Luego realizar la importación del módulo y probar alguna de sus funciones"
   ]
  },
  {
   "cell_type": "code",
   "execution_count": 150,
   "metadata": {},
   "outputs": [],
   "source": [
    "from herramientas_listas import *\n",
    "\n",
    "h4= Herramientas_listas([1,2,3,4,5,6,7])\n"
   ]
  },
  {
   "cell_type": "code",
   "execution_count": 151,
   "metadata": {},
   "outputs": [
    {
     "name": "stdout",
     "output_type": "stream",
     "text": [
      "El factorial de 1 es 1\n",
      "El factorial de 2 es 2\n",
      "El factorial de 3 es 6\n",
      "El factorial de 4 es 24\n",
      "El factorial de 5 es 120\n",
      "El factorial de 6 es 720\n",
      "El factorial de 7 es 5040\n"
     ]
    }
   ],
   "source": [
    "h4.factorial()"
   ]
  }
 ],
 "metadata": {
  "interpreter": {
   "hash": "c85384e4cb51c8b72350f3a8712cc8351fdc3955e32a27f9b60c6242ab125f01"
  },
  "kernelspec": {
   "display_name": "Python 3 (ipykernel)",
   "language": "python",
   "name": "python3"
  },
  "language_info": {
   "codemirror_mode": {
    "name": "ipython",
    "version": 3
   },
   "file_extension": ".py",
   "mimetype": "text/x-python",
   "name": "python",
   "nbconvert_exporter": "python",
   "pygments_lexer": "ipython3",
   "version": "3.11.4"
  }
 },
 "nbformat": 4,
 "nbformat_minor": 4
}
