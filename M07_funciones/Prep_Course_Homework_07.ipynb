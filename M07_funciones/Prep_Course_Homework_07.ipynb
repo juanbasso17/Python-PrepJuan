{
 "cells": [
  {
   "attachments": {},
   "cell_type": "markdown",
   "metadata": {},
   "source": [
    "## Funciones"
   ]
  },
  {
   "attachments": {},
   "cell_type": "markdown",
   "metadata": {},
   "source": [
    "1) Crear una función que reciba un número como parámetro y devuelva True si es primo y False si no lo es"
   ]
  },
  {
   "cell_type": "code",
   "execution_count": 2,
   "metadata": {},
   "outputs": [],
   "source": [
    "def primo(nro):\n",
    "    if nro <= 1:\n",
    "        return False\n",
    "    for i in range(2,nro):\n",
    "        if nro % i == 0:\n",
    "            return False\n",
    "    return True\n"
   ]
  },
  {
   "cell_type": "code",
   "execution_count": 4,
   "metadata": {},
   "outputs": [
    {
     "data": {
      "text/plain": [
       "False"
      ]
     },
     "execution_count": 4,
     "metadata": {},
     "output_type": "execute_result"
    }
   ],
   "source": [
    "primo(1)"
   ]
  },
  {
   "attachments": {},
   "cell_type": "markdown",
   "metadata": {},
   "source": [
    "2) Utilizando la función del punto 1, realizar otra función que reciba de parámetro una lista de números y devuelva sólo aquellos que son primos en otra lista"
   ]
  },
  {
   "cell_type": "code",
   "execution_count": 35,
   "metadata": {},
   "outputs": [],
   "source": [
    "def son_primos(lista):\n",
    "    lista_primos= []\n",
    "    for elemento in lista:\n",
    "        if primo(int(elemento)):\n",
    "            lista_primos.append(elemento)\n",
    "    return lista_primos"
   ]
  },
  {
   "cell_type": "code",
   "execution_count": 38,
   "metadata": {},
   "outputs": [
    {
     "name": "stdout",
     "output_type": "stream",
     "text": [
      "[2, 3, 5, 7]\n"
     ]
    }
   ],
   "source": [
    "lista_nros= [1,2,3,4,5,6,7,8,9,10]\n",
    "lista_primos= son_primos(lista_nros)\n",
    "print(lista_primos)"
   ]
  },
  {
   "attachments": {},
   "cell_type": "markdown",
   "metadata": {},
   "source": [
    "3) Crear una función que al recibir una lista de números, devuelva el que más se repite y cuántas veces lo hace. Si hay más de un \"más repetido\", que devuelva cualquiera"
   ]
  },
  {
   "cell_type": "code",
   "execution_count": 48,
   "metadata": {},
   "outputs": [],
   "source": [
    "def valor_modal(lista): #la función valor_modal encuentra la moda (el número más repetido)\n",
    "    unicos= []\n",
    "    repetidos= []\n",
    "    if len(lista)== 0:\n",
    "        return None\n",
    "    for elemento in lista:\n",
    "        if elemento in unicos:\n",
    "            i= unicos.index(elemento)\n",
    "            repetidos[i] += 1\n",
    "        else:\n",
    "            unicos.append(elemento)\n",
    "            repetidos.append(1)\n",
    "    moda= unicos[0]\n",
    "    maximo= repetidos[0]\n",
    "    for i, elemento in enumerate(unicos):\n",
    "        if repetidos[i] > maximo:\n",
    "            moda= unicos[i]\n",
    "            maximo= repetidos[i]\n",
    "    return moda, maximo  \n",
    "\n",
    "    \n"
   ]
  },
  {
   "cell_type": "code",
   "execution_count": 49,
   "metadata": {},
   "outputs": [
    {
     "data": {
      "text/plain": [
       "(5, 3)"
      ]
     },
     "execution_count": 49,
     "metadata": {},
     "output_type": "execute_result"
    }
   ],
   "source": [
    "numeros= [1,5,4,3,3,3,4,5,8,6,8,7,9,4,7,6,5] # el 3 y el 5 se repitan la misma cantidad de veces, pero \n",
    "valor_modal(numeros)    # el output retorna solo el 5 (elije cualquiera, en este caso, el primer numero que se encontró)"
   ]
  },
  {
   "cell_type": "code",
   "execution_count": 50,
   "metadata": {},
   "outputs": [],
   "source": [
    "vacia= []\n",
    "valor_modal(vacia)"
   ]
  },
  {
   "attachments": {},
   "cell_type": "markdown",
   "metadata": {},
   "source": [
    "4) A la función del punto 3, agregar un parámetro más, que permita elegir si se requiere el menor o el mayor de los mas repetidos."
   ]
  },
  {
   "cell_type": "code",
   "execution_count": 53,
   "metadata": {},
   "outputs": [],
   "source": [
    "def valor_modal_2(lista, menor=True): \n",
    "    unicos= []\n",
    "    repetidos= []\n",
    "    if len(lista)== 0:\n",
    "        return None\n",
    "    if menor:\n",
    "        lista.sort()\n",
    "    else:\n",
    "        lista.sort(reverse=True)\n",
    "    for elemento in lista:\n",
    "        if elemento in unicos:\n",
    "            i= unicos.index(elemento)\n",
    "            repetidos[i] += 1\n",
    "        else:\n",
    "            unicos.append(elemento)\n",
    "            repetidos.append(1)\n",
    "    moda= unicos[0]\n",
    "    maximo= repetidos[0]\n",
    "    for i, elemento in enumerate(unicos):\n",
    "        if repetidos[i] > maximo:\n",
    "            moda= unicos[i]\n",
    "            maximo= repetidos[i]\n",
    "    return moda, maximo  "
   ]
  },
  {
   "cell_type": "code",
   "execution_count": 56,
   "metadata": {},
   "outputs": [
    {
     "data": {
      "text/plain": [
       "(5, 3)"
      ]
     },
     "execution_count": 56,
     "metadata": {},
     "output_type": "execute_result"
    }
   ],
   "source": [
    "valor_modal_2(numeros, False)"
   ]
  },
  {
   "attachments": {},
   "cell_type": "markdown",
   "metadata": {},
   "source": [
    "5) Crear una función que convierta entre grados Celsius, Farenheit y Kelvin<br>\n",
    "Fórmula 1\t: (°C × 9/5) + 32 = °F<br>\n",
    "Fórmula 2\t: °C + 273.15 = °K<br>\n",
    "Debe recibir 3 parámetros: el valor, la medida de orígen y la medida de destino\n"
   ]
  },
  {
   "cell_type": "code",
   "execution_count": 57,
   "metadata": {},
   "outputs": [],
   "source": [
    "def conversor_temperatura(valor,origen,destino):\n",
    "    if origen == 'celsius':\n",
    "        if destino == 'celsius':\n",
    "            valor_destino = valor\n",
    "        elif destino == 'farenheit':\n",
    "            valor_destino = (valor * (9/5) + 32)\n",
    "        elif destino == 'kelvin':\n",
    "            valor_destino = valor + 273.15\n",
    "        else:\n",
    "            print('Parámetro incorrecto')\n",
    "    elif origen == 'farenheit':\n",
    "        if destino == 'farenheit':\n",
    "            valor_destino = valor\n",
    "        elif destino == 'celsius':\n",
    "            valor_destino = ((valor - 32) * 5) / 9\n",
    "        elif destino == 'kelvin':\n",
    "            valor_destino = (((valor - 32) * 5) / 9) + 273.15\n",
    "        else:\n",
    "            print('Parámetro incorrecto')\n",
    "    elif origen == 'kelvin':\n",
    "        if destino == 'kelvin':\n",
    "            valor_destino= valor\n",
    "        elif destino == 'celsius':\n",
    "            valor_destino= valor - 273.15\n",
    "        elif destino == 'farenheit':\n",
    "            valor_destino= (valor - 273.15) * 9/5 + 32\n",
    "        else:\n",
    "            print('Parámetro incorrecto')\n",
    "    else:\n",
    "        print('Parámetro de origen incorrecto')\n",
    "    return valor_destino\n",
    "\n",
    "\n"
   ]
  },
  {
   "attachments": {},
   "cell_type": "markdown",
   "metadata": {},
   "source": [
    "Prueba"
   ]
  },
  {
   "cell_type": "code",
   "execution_count": 59,
   "metadata": {},
   "outputs": [
    {
     "name": "stdout",
     "output_type": "stream",
     "text": [
      "de celsius a celsius:  1\n",
      "de celsius a farenheit:  33.8\n",
      "de celsius a kelvin:  274.15\n",
      "de farenheit a farenheit:  1\n",
      "de farenheit a celsius:  -17.22222222222222\n",
      "de farenheit a kelvin:  255.92777777777775\n",
      "de kelvin a kelvin:  1\n",
      "de kelvin a celsius:  -272.15\n",
      "de kelvin a farenheit:  -457.87\n"
     ]
    }
   ],
   "source": [
    "print('de celsius a celsius: ', conversor_temperatura(1,'celsius', 'celsius'))\n",
    "print('de celsius a farenheit: ', conversor_temperatura(1,'celsius', 'farenheit'))\n",
    "print('de celsius a kelvin: ', conversor_temperatura(1,'celsius', 'kelvin'))\n",
    "print('de farenheit a farenheit: ', conversor_temperatura(1,'farenheit', 'farenheit'))\n",
    "print('de farenheit a celsius: ', conversor_temperatura(1,'farenheit', 'celsius'))\n",
    "print('de farenheit a kelvin: ', conversor_temperatura(1,'farenheit', 'kelvin'))\n",
    "print('de kelvin a kelvin: ', conversor_temperatura(1,'kelvin', 'kelvin'))\n",
    "print('de kelvin a celsius: ', conversor_temperatura(1,'kelvin', 'celsius'))\n",
    "print('de kelvin a farenheit: ', conversor_temperatura(1,'kelvin', 'farenheit'))"
   ]
  },
  {
   "attachments": {},
   "cell_type": "markdown",
   "metadata": {},
   "source": [
    "NO ERAN MUCHOS PRINTS? ITERACION!"
   ]
  },
  {
   "attachments": {},
   "cell_type": "markdown",
   "metadata": {},
   "source": [
    "6) Iterando una lista con los tres valores posibles de temperatura que recibe la función del punto 5, hacer un print para cada combinación de los mismos:"
   ]
  },
  {
   "cell_type": "code",
   "execution_count": 61,
   "metadata": {},
   "outputs": [
    {
     "name": "stdout",
     "output_type": "stream",
     "text": [
      "1 grado celsius a celsius es: 1\n",
      "1 grado celsius a farenheit es: 33.8\n",
      "1 grado celsius a kelvin es: 274.15\n",
      "1 grado farenheit a celsius es: -17.22222222222222\n",
      "1 grado farenheit a farenheit es: 1\n",
      "1 grado farenheit a kelvin es: 255.92777777777775\n",
      "1 grado kelvin a celsius es: -272.15\n",
      "1 grado kelvin a farenheit es: -457.87\n",
      "1 grado kelvin a kelvin es: 1\n"
     ]
    }
   ],
   "source": [
    "metricas= ['celsius','farenheit','kelvin']\n",
    "\n",
    "for i in range(0,3):\n",
    "    for j in range(0,3):\n",
    "        print(f'1 grado {metricas[i]} a {metricas[j]} es: {conversor_temperatura(1,metricas[i],metricas[j])}')"
   ]
  },
  {
   "attachments": {},
   "cell_type": "markdown",
   "metadata": {},
   "source": [
    "RECURSIVIDAD"
   ]
  },
  {
   "attachments": {},
   "cell_type": "markdown",
   "metadata": {},
   "source": [
    "7) Armar una función que devuelva el factorial de un número. Tener en cuenta que el usuario puede equivocarse y enviar de parámetro un número no entero o negativo"
   ]
  },
  {
   "cell_type": "code",
   "execution_count": 65,
   "metadata": {},
   "outputs": [],
   "source": [
    "def factorial(numero):\n",
    "    if type(numero) != int:\n",
    "        return 'Debe ser un número entero'\n",
    "    if numero < 0:\n",
    "        return 'Debe ser un número positivo'\n",
    "    if numero <= 1:\n",
    "        return 1\n",
    "    numero= numero * factorial(numero - 1)\n",
    "    return numero\n",
    "    "
   ]
  },
  {
   "cell_type": "code",
   "execution_count": 66,
   "metadata": {},
   "outputs": [
    {
     "data": {
      "text/plain": [
       "120"
      ]
     },
     "execution_count": 66,
     "metadata": {},
     "output_type": "execute_result"
    }
   ],
   "source": [
    "factorial(5)"
   ]
  }
 ],
 "metadata": {
  "interpreter": {
   "hash": "c85384e4cb51c8b72350f3a8712cc8351fdc3955e32a27f9b60c6242ab125f01"
  },
  "kernelspec": {
   "display_name": "Python 3 (ipykernel)",
   "language": "python",
   "name": "python3"
  },
  "language_info": {
   "codemirror_mode": {
    "name": "ipython",
    "version": 3
   },
   "file_extension": ".py",
   "mimetype": "text/x-python",
   "name": "python",
   "nbconvert_exporter": "python",
   "pygments_lexer": "ipython3",
   "version": "3.11.4"
  }
 },
 "nbformat": 4,
 "nbformat_minor": 4
}
