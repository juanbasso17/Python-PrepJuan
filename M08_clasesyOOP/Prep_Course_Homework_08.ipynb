{
 "cells": [
  {
   "attachments": {},
   "cell_type": "markdown",
   "metadata": {},
   "source": [
    "## Clases y Programación Orientada a Objetos"
   ]
  },
  {
   "attachments": {},
   "cell_type": "markdown",
   "metadata": {},
   "source": [
    "1) Crear la clase vehículo que contenga los atributos:<br>\n",
    "Color<br>\n",
    "Si es moto, auto, camioneta ó camión<br>\n",
    "Cilindrada del motor"
   ]
  },
  {
   "cell_type": "code",
   "execution_count": 69,
   "metadata": {},
   "outputs": [],
   "source": [
    "class vehiculo:\n",
    "    def __init__(self,color,tipo,cilindrada):\n",
    "        self.color= color\n",
    "        self.tipo= tipo\n",
    "        self.cilindrada= cilindrada \n"
   ]
  },
  {
   "attachments": {},
   "cell_type": "markdown",
   "metadata": {},
   "source": [
    "2) A la clase Vehiculo creada en el punto 1, agregar los siguientes métodos:<br>\n",
    "Acelerar<br>\n",
    "Frenar<br>\n",
    "Doblar<br>"
   ]
  },
  {
   "cell_type": "code",
   "execution_count": 70,
   "metadata": {},
   "outputs": [],
   "source": [
    "class vehiculo:\n",
    "    def __init__(self,color,tipo,cilindrada):\n",
    "        self.color= color\n",
    "        self.tipo= tipo\n",
    "        self.cilindrada= cilindrada\n",
    "        self.velocidad= 0\n",
    "        self.direccion= 0 \n",
    "\n",
    "    def acelerar(self,vel):\n",
    "        self.velocidad += vel\n",
    "    def frenar(self,vel):\n",
    "        self.velocidad -= vel\n",
    "    def doblar(self,grados):\n",
    "        self.direccion += grados"
   ]
  },
  {
   "attachments": {},
   "cell_type": "markdown",
   "metadata": {},
   "source": [
    "3) Instanciar 3 objetos de la clase vehículo y ejecutar sus métodos, probar luego el resultado"
   ]
  },
  {
   "cell_type": "code",
   "execution_count": 75,
   "metadata": {},
   "outputs": [],
   "source": [
    "vehiculo1= vehiculo('rojo','auto',3)\n",
    "vehiculo2= vehiculo('negro','moto',2.3)\n",
    "vehiculo3= vehiculo('azul','camion',5)\n"
   ]
  },
  {
   "cell_type": "code",
   "execution_count": 76,
   "metadata": {},
   "outputs": [
    {
     "name": "stdout",
     "output_type": "stream",
     "text": [
      "acelerando\n",
      "doblando\n"
     ]
    }
   ],
   "source": [
    "print('acelerando')\n",
    "vehiculo1.acelerar(20)\n",
    "vehiculo2.acelerar(10)\n",
    "vehiculo3.acelerar(15)\n",
    "\n",
    "print('doblando')\n",
    "vehiculo1.doblar(-20)\n",
    "vehiculo2.doblar(25)\n",
    "vehiculo3.doblar(-10)"
   ]
  },
  {
   "attachments": {},
   "cell_type": "markdown",
   "metadata": {},
   "source": [
    "4) Agregar a la clase Vehiculo, un método que muestre su estado, es decir, a que velocidad se encuentra y su dirección. Y otro método que muestre color, tipo y cilindrada"
   ]
  },
  {
   "cell_type": "code",
   "execution_count": 73,
   "metadata": {},
   "outputs": [],
   "source": [
    "class vehiculo:\n",
    "    def __init__(self,color,tipo,cilindrada):\n",
    "        self.color= color\n",
    "        self.tipo= tipo\n",
    "        self.cilindrada= cilindrada\n",
    "        self.velocidad= 0\n",
    "        self.direccion= 0 \n",
    "\n",
    "    def acelerar(self,vel):\n",
    "        self.velocidad += vel\n",
    "    def frenar(self,vel):\n",
    "        self.velocidad -= vel\n",
    "    def doblar(self,grados):\n",
    "        self.direccion += grados\n",
    "\n",
    "    def estado(self):\n",
    "        return print(f'EL vehiculo va a {self.velocidad} km/h y se mueve con direccion {self.direccion} grados')\n",
    "    \n",
    "    def presentar(self):\n",
    "        return print(f'El vehiculo es un/a {self.tipo}, de color {self.color}, con cilindrada de {self.cilindrada}')"
   ]
  },
  {
   "cell_type": "code",
   "execution_count": 77,
   "metadata": {},
   "outputs": [
    {
     "name": "stdout",
     "output_type": "stream",
     "text": [
      "El vehiculo es un/a auto, de color rojo, con cilindrada de 3\n",
      "El vehiculo es un/a moto, de color negro, con cilindrada de 2.3\n",
      "El vehiculo es un/a camion, de color azul, con cilindrada de 5\n"
     ]
    }
   ],
   "source": [
    "vehiculo1.presentar()\n",
    "vehiculo2.presentar()\n",
    "vehiculo3.presentar()"
   ]
  },
  {
   "cell_type": "code",
   "execution_count": 78,
   "metadata": {},
   "outputs": [
    {
     "name": "stdout",
     "output_type": "stream",
     "text": [
      "EL vehiculo va a 20 km/h y se mueve con direccion -20 grados\n",
      "EL vehiculo va a 10 km/h y se mueve con direccion 25 grados\n",
      "EL vehiculo va a 15 km/h y se mueve con direccion -10 grados\n"
     ]
    }
   ],
   "source": [
    "vehiculo1.estado()\n",
    "vehiculo2.estado()\n",
    "vehiculo3.estado()"
   ]
  },
  {
   "cell_type": "code",
   "execution_count": 79,
   "metadata": {},
   "outputs": [
    {
     "name": "stdout",
     "output_type": "stream",
     "text": [
      "frenando y cambiando de direccion\n",
      "EL vehiculo va a 10 km/h y se mueve con direccion -30 grados\n",
      "EL vehiculo va a 5 km/h y se mueve con direccion 50 grados\n",
      "EL vehiculo va a 0 km/h y se mueve con direccion -25 grados\n"
     ]
    }
   ],
   "source": [
    "print('frenando y cambiando de direccion')\n",
    "vehiculo1.frenar(10)\n",
    "vehiculo2.frenar(5)\n",
    "vehiculo3.frenar(15)\n",
    "vehiculo1.doblar(-10)\n",
    "vehiculo2.doblar(25)\n",
    "vehiculo3.doblar(-15)\n",
    "\n",
    "vehiculo1.estado()\n",
    "vehiculo2.estado()\n",
    "vehiculo3.estado()"
   ]
  },
  {
   "attachments": {},
   "cell_type": "markdown",
   "metadata": {},
   "source": [
    "5) Crear una clase que permita utilizar las funciones creadas en la práctica del módulo 7<br>\n",
    "Verificar Primo<br>\n",
    "Valor modal<br>\n",
    "Conversión grados<br>\n",
    "Factorial<br>"
   ]
  },
  {
   "cell_type": "code",
   "execution_count": null,
   "metadata": {},
   "outputs": [],
   "source": [
    "class Herramientas:\n",
    "    def __init__(self) -> None:\n",
    "        pass\n",
    "\n",
    "    def verifica_primo(self,nro):\n",
    "        primo= True\n",
    "        if nro > 1:\n",
    "            for i in range(2,nro):\n",
    "                if nro % i == 0:\n",
    "                    primo= False\n",
    "                    break\n",
    "            return primo\n",
    "\n",
    "    def valor_modal(self,lista,menor):\n",
    "        unicos= []\n",
    "        repetidos= []\n",
    "        if len(lista) == 0:\n",
    "            return None\n",
    "        if menor:\n",
    "            lista.sort()\n",
    "        else:\n",
    "            lista.sort(reverse=True)\n",
    "        for elemento in lista:\n",
    "            if elemento in unicos:\n",
    "                i= unicos.index(elemento)\n",
    "                repetidos[i] += 1\n",
    "            else:\n",
    "                unicos.append(elemento)\n",
    "                repetidos.append(1)\n",
    "            "
   ]
  },
  {
   "attachments": {},
   "cell_type": "markdown",
   "metadata": {},
   "source": [
    "6) Probar las funciones incorporadas en la clase del punto 5"
   ]
  },
  {
   "cell_type": "code",
   "execution_count": null,
   "metadata": {},
   "outputs": [],
   "source": []
  },
  {
   "attachments": {},
   "cell_type": "markdown",
   "metadata": {},
   "source": [
    "7) Es necesario que la clase creada en el punto 5 contenga una lista, sobre la cual se apliquen las funciones incorporadas"
   ]
  },
  {
   "cell_type": "code",
   "execution_count": null,
   "metadata": {},
   "outputs": [],
   "source": []
  },
  {
   "attachments": {},
   "cell_type": "markdown",
   "metadata": {},
   "source": [
    "8) Crear un archivo .py aparte y ubicar allí la clase generada en el punto anterior. Luego realizar la importación del módulo y probar alguna de sus funciones"
   ]
  },
  {
   "cell_type": "code",
   "execution_count": null,
   "metadata": {},
   "outputs": [],
   "source": []
  }
 ],
 "metadata": {
  "interpreter": {
   "hash": "c85384e4cb51c8b72350f3a8712cc8351fdc3955e32a27f9b60c6242ab125f01"
  },
  "kernelspec": {
   "display_name": "Python 3 (ipykernel)",
   "language": "python",
   "name": "python3"
  },
  "language_info": {
   "codemirror_mode": {
    "name": "ipython",
    "version": 3
   },
   "file_extension": ".py",
   "mimetype": "text/x-python",
   "name": "python",
   "nbconvert_exporter": "python",
   "pygments_lexer": "ipython3",
   "version": "3.11.4"
  }
 },
 "nbformat": 4,
 "nbformat_minor": 4
}
